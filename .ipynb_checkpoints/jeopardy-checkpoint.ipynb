{
 "cells": [
  {
   "cell_type": "code",
   "execution_count": 16,
   "metadata": {},
   "outputs": [
    {
     "name": "stderr",
     "output_type": "stream",
     "text": [
      "<ipython-input-16-fd0b9af24538>:2: FutureWarning: Passing a negative integer is deprecated in version 1.0 and will not be supported in future version. Instead, use None to not limit the column width.\n",
      "  pd.set_option('display.max_colwidth', -1)\n"
     ]
    }
   ],
   "source": [
    "import pandas as pd\n",
    "pd.set_option('display.max_colwidth', -1)\n"
   ]
  },
  {
   "cell_type": "code",
   "execution_count": 80,
   "metadata": {},
   "outputs": [],
   "source": [
    "data = pd.read_csv('jeopardy.csv')"
   ]
  },
  {
   "cell_type": "code",
   "execution_count": 81,
   "metadata": {},
   "outputs": [
    {
     "name": "stdout",
     "output_type": "stream",
     "text": [
      "   Show Number    Air Date      Round                         Category  Value  \\\n",
      "0  4680         2004-12-31  Jeopardy!  HISTORY                          $200    \n",
      "1  4680         2004-12-31  Jeopardy!  ESPN's TOP 10 ALL-TIME ATHLETES  $200    \n",
      "2  4680         2004-12-31  Jeopardy!  EVERYBODY TALKS ABOUT IT...      $200    \n",
      "3  4680         2004-12-31  Jeopardy!  THE COMPANY LINE                 $200    \n",
      "4  4680         2004-12-31  Jeopardy!  EPITAPHS & TRIBUTES              $200    \n",
      "\n",
      "                                                                                                      Question  \\\n",
      "0  For the last 8 years of his life, Galileo was under house arrest for espousing this man's theory              \n",
      "1  No. 2: 1912 Olympian; football star at Carlisle Indian School; 6 MLB seasons with the Reds, Giants & Braves   \n",
      "2  The city of Yuma in this state has a record average of 4,055 hours of sunshine each year                      \n",
      "3  In 1963, live on \"The Art Linkletter Show\", this company served its billionth burger                          \n",
      "4  Signer of the Dec. of Indep., framer of the Constitution of Mass., second President of the United States      \n",
      "\n",
      "       Answer  \n",
      "0  Copernicus  \n",
      "1  Jim Thorpe  \n",
      "2  Arizona     \n",
      "3  McDonald's  \n",
      "4  John Adams  \n"
     ]
    }
   ],
   "source": [
    "print (data.head())"
   ]
  },
  {
   "cell_type": "code",
   "execution_count": 82,
   "metadata": {},
   "outputs": [
    {
     "data": {
      "text/plain": [
       "Index(['Show Number', ' Air Date', ' Round', ' Category', ' Value',\n",
       "       ' Question', ' Answer'],\n",
       "      dtype='object')"
      ]
     },
     "execution_count": 82,
     "metadata": {},
     "output_type": "execute_result"
    }
   ],
   "source": [
    "data.columns"
   ]
  },
  {
   "cell_type": "code",
   "execution_count": 83,
   "metadata": {},
   "outputs": [],
   "source": [
    "data.columns = ['show_number','air_date','Round','Category','Value','Question','Answer']"
   ]
  },
  {
   "cell_type": "code",
   "execution_count": 84,
   "metadata": {},
   "outputs": [
    {
     "data": {
      "text/plain": [
       "Index(['show_number', 'air_date', 'Round', 'Category', 'Value', 'Question',\n",
       "       'Answer'],\n",
       "      dtype='object')"
      ]
     },
     "execution_count": 84,
     "metadata": {},
     "output_type": "execute_result"
    }
   ],
   "source": [
    "data.columns"
   ]
  },
  {
   "cell_type": "code",
   "execution_count": 85,
   "metadata": {},
   "outputs": [
    {
     "name": "stdout",
     "output_type": "stream",
     "text": [
      "   show_number    air_date      Round                         Category Value  \\\n",
      "0  4680         2004-12-31  Jeopardy!  HISTORY                          $200   \n",
      "1  4680         2004-12-31  Jeopardy!  ESPN's TOP 10 ALL-TIME ATHLETES  $200   \n",
      "2  4680         2004-12-31  Jeopardy!  EVERYBODY TALKS ABOUT IT...      $200   \n",
      "3  4680         2004-12-31  Jeopardy!  THE COMPANY LINE                 $200   \n",
      "4  4680         2004-12-31  Jeopardy!  EPITAPHS & TRIBUTES              $200   \n",
      "\n",
      "                                                                                                      Question  \\\n",
      "0  For the last 8 years of his life, Galileo was under house arrest for espousing this man's theory              \n",
      "1  No. 2: 1912 Olympian; football star at Carlisle Indian School; 6 MLB seasons with the Reds, Giants & Braves   \n",
      "2  The city of Yuma in this state has a record average of 4,055 hours of sunshine each year                      \n",
      "3  In 1963, live on \"The Art Linkletter Show\", this company served its billionth burger                          \n",
      "4  Signer of the Dec. of Indep., framer of the Constitution of Mass., second President of the United States      \n",
      "\n",
      "       Answer  \n",
      "0  Copernicus  \n",
      "1  Jim Thorpe  \n",
      "2  Arizona     \n",
      "3  McDonald's  \n",
      "4  John Adams  \n"
     ]
    }
   ],
   "source": [
    "print (data.head())"
   ]
  },
  {
   "cell_type": "code",
   "execution_count": 86,
   "metadata": {},
   "outputs": [],
   "source": [
    "def filtered_data(data, words):\n",
    "    filter = lambda x: all(word.lower() in x.lower() for word in words)\n",
    "    return data.loc[data['Question'].apply(filter)]"
   ]
  },
  {
   "cell_type": "code",
   "execution_count": 70,
   "metadata": {},
   "outputs": [
    {
     "name": "stdout",
     "output_type": "stream",
     "text": [
      "        show_number    air_date             Round               Category  \\\n",
      "4953    3003         1997-09-24  Double Jeopardy!  \"PH\"UN WORDS            \n",
      "6337    3517         1999-12-14  Double Jeopardy!  Y1K                     \n",
      "9191    3907         2001-09-04  Double Jeopardy!  WON THE BATTLE          \n",
      "11710   2903         1997-03-26  Double Jeopardy!  BRITISH MONARCHS        \n",
      "13454   4726         2005-03-07  Jeopardy!         A NUMBER FROM 1 TO 10   \n",
      "...      ...                ...        ...                           ...   \n",
      "208295  4621         2004-10-11  Jeopardy!         THE VIKINGS             \n",
      "208742  4863         2005-11-02  Double Jeopardy!  BEFORE & AFTER          \n",
      "213870  5856         2010-02-15  Double Jeopardy!  URANUS                  \n",
      "216021  1881         1992-11-09  Double Jeopardy!  HISTORIC NAMES          \n",
      "216789  5070         2006-09-29  Double Jeopardy!  ANCIENT HISTORY         \n",
      "\n",
      "         Value  \\\n",
      "4953    200.0    \n",
      "6337    800.0    \n",
      "9191    800.0    \n",
      "11710   600.0    \n",
      "13454   1000.0   \n",
      "...        ...   \n",
      "208295  600.0    \n",
      "208742  3000.0   \n",
      "213870  1600.0   \n",
      "216021  1000.0   \n",
      "216789  1200.0   \n",
      "\n",
      "                                                                                                      Question  \\\n",
      "4953    Both England's King George V & FDR put their stamp of approval on this \"King of Hobbies\"                 \n",
      "6337    In retaliation for Viking raids, this \"Unready\" king of England attacks Norse areas of the Isle of Man   \n",
      "9191    This king of England beat the odds to trounce the French in the 1415 Battle of Agincourt                 \n",
      "11710   This Scotsman, the first Stuart king of England, was called \"The Wisest Fool in Christendom\"             \n",
      "13454   It's the number that followed the last king of England named William                                     \n",
      "...                                                                      ...                                     \n",
      "208295  In 1066 this great-great grandson of Rollo made what some call the last Viking invasion of England       \n",
      "208742  Dutch-born king who ruled England jointly with Mary II & is a tasty New Zealand fish                     \n",
      "213870  In 1781 William Herschel discovered Uranus & initially named it after this king of England               \n",
      "216021  His nickname was \"Bertie\", but he used this name & number when he became king of England in 1901         \n",
      "216789  This kingdom of England grew from 2 settlements, one founded around 495 by Cerdic & his son Cynric       \n",
      "\n",
      "                              Answer  \n",
      "4953    Philately (stamp collecting)  \n",
      "6337    Ethelred                      \n",
      "9191    Henry V                       \n",
      "11710   James I                       \n",
      "13454   4                             \n",
      "...    ..                             \n",
      "208295  William the Conqueror         \n",
      "208742  William of Orange roughy      \n",
      "213870  George III                    \n",
      "216021  Edward VII                    \n",
      "216789  Wessex                        \n",
      "\n",
      "[152 rows x 7 columns]\n"
     ]
    }
   ],
   "source": [
    "ret_rows = filtered_data(data, [\"King\", \"England\"])\n",
    "print(ret_rows)"
   ]
  },
  {
   "cell_type": "code",
   "execution_count": 87,
   "metadata": {},
   "outputs": [
    {
     "name": "stdout",
     "output_type": "stream",
     "text": [
      "0         $200 \n",
      "1         $200 \n",
      "2         $200 \n",
      "3         $200 \n",
      "4         $200 \n",
      "          ...  \n",
      "216925    $2000\n",
      "216926    $2000\n",
      "216927    $2000\n",
      "216928    $2000\n",
      "216929    None \n",
      "Name: Value, Length: 216930, dtype: object\n"
     ]
    }
   ],
   "source": [
    "print (data.Value)"
   ]
  },
  {
   "cell_type": "code",
   "execution_count": 88,
   "metadata": {},
   "outputs": [],
   "source": [
    "data['Value'] = data[\"Value\"].apply(lambda x: float(x[1:].replace(',','')) if x != \"None\" else 0)\n"
   ]
  },
  {
   "cell_type": "code",
   "execution_count": 89,
   "metadata": {},
   "outputs": [
    {
     "name": "stdout",
     "output_type": "stream",
     "text": [
      "   show_number    air_date      Round                         Category  Value  \\\n",
      "0  4680         2004-12-31  Jeopardy!  HISTORY                          200.0   \n",
      "1  4680         2004-12-31  Jeopardy!  ESPN's TOP 10 ALL-TIME ATHLETES  200.0   \n",
      "2  4680         2004-12-31  Jeopardy!  EVERYBODY TALKS ABOUT IT...      200.0   \n",
      "3  4680         2004-12-31  Jeopardy!  THE COMPANY LINE                 200.0   \n",
      "4  4680         2004-12-31  Jeopardy!  EPITAPHS & TRIBUTES              200.0   \n",
      "\n",
      "                                                                                                      Question  \\\n",
      "0  For the last 8 years of his life, Galileo was under house arrest for espousing this man's theory              \n",
      "1  No. 2: 1912 Olympian; football star at Carlisle Indian School; 6 MLB seasons with the Reds, Giants & Braves   \n",
      "2  The city of Yuma in this state has a record average of 4,055 hours of sunshine each year                      \n",
      "3  In 1963, live on \"The Art Linkletter Show\", this company served its billionth burger                          \n",
      "4  Signer of the Dec. of Indep., framer of the Constitution of Mass., second President of the United States      \n",
      "\n",
      "       Answer  \n",
      "0  Copernicus  \n",
      "1  Jim Thorpe  \n",
      "2  Arizona     \n",
      "3  McDonald's  \n",
      "4  John Adams  \n"
     ]
    }
   ],
   "source": [
    "print (data.head())\n"
   ]
  },
  {
   "cell_type": "code",
   "execution_count": 90,
   "metadata": {},
   "outputs": [
    {
     "name": "stdout",
     "output_type": "stream",
     "text": [
      "show_number    int64  \n",
      "air_date       object \n",
      "Round          object \n",
      "Category       object \n",
      "Value          float64\n",
      "Question       object \n",
      "Answer         object \n",
      "dtype: object\n"
     ]
    }
   ],
   "source": [
    "print(data.dtypes)\n"
   ]
  },
  {
   "cell_type": "code",
   "execution_count": 91,
   "metadata": {},
   "outputs": [
    {
     "name": "stdout",
     "output_type": "stream",
     "text": [
      "771.8833850722094\n"
     ]
    }
   ],
   "source": [
    "filtered = filtered_data(data, [\"King\"])\n",
    "print(filtered['Value'].mean())"
   ]
  },
  {
   "cell_type": "code",
   "execution_count": 92,
   "metadata": {},
   "outputs": [],
   "source": [
    "def answer_counts(data):\n",
    "    return data['Answer'].value_counts()"
   ]
  },
  {
   "cell_type": "code",
   "execution_count": 142,
   "metadata": {},
   "outputs": [],
   "source": [
    "#print(answer_counts(filtered))"
   ]
  },
  {
   "cell_type": "code",
   "execution_count": 111,
   "metadata": {},
   "outputs": [
    {
     "name": "stdout",
     "output_type": "stream",
     "text": [
      "False\n"
     ]
    }
   ],
   "source": [
    "print (data.air_date[5]<'2000-1-1')\n"
   ]
  },
  {
   "cell_type": "code",
   "execution_count": 137,
   "metadata": {},
   "outputs": [],
   "source": [
    "data_90=  data [data.air_date < '2000-1-1']\n",
    "data_90_00 = data_90 [data_90.air_date >= '1990-1-1']"
   ]
  },
  {
   "cell_type": "code",
   "execution_count": 139,
   "metadata": {},
   "outputs": [],
   "source": [
    "com_rows = filtered_data(data_90_00, [\"Computer\"])\n"
   ]
  },
  {
   "cell_type": "code",
   "execution_count": 143,
   "metadata": {},
   "outputs": [
    {
     "name": "stdout",
     "output_type": "stream",
     "text": [
      "        show_number    air_date             Round                 Category  \\\n",
      "2410    True         1998-07-16  Jeopardy!         PRE-COLUMBIAN CULTURES    \n",
      "5077    True         1999-10-22  Double Jeopardy!  19th CENTURY LITERATURE   \n",
      "18795   True         1998-05-22  Double Jeopardy!  GREEK LETTERS             \n",
      "20019   True         2000-03-14  Double Jeopardy!  DOUBLE DOUBLE LETTERS     \n",
      "20837   True         1998-03-04  Jeopardy!         GO TO \"H\"                 \n",
      "...      ...                ...        ...               ...                 \n",
      "209897  True         1996-04-01  Jeopardy!         APRIL FOOLS' DAY          \n",
      "211882  True         1998-09-17  Double Jeopardy!  WORD ORIGINS              \n",
      "212789  True         1997-02-10  Double Jeopardy!  ESSAYS                    \n",
      "216527  True         1997-11-12  Jeopardy!         COMPUTERESE               \n",
      "216533  True         1997-11-12  Jeopardy!         COMPUTERESE               \n",
      "\n",
      "         Value  \\\n",
      "2410    500.0    \n",
      "5077    500.0    \n",
      "18795   1000.0   \n",
      "20019   200.0    \n",
      "20837   200.0    \n",
      "...       ...    \n",
      "209897  200.0    \n",
      "211882  200.0    \n",
      "212789  800.0    \n",
      "216527  400.0    \n",
      "216533  500.0    \n",
      "\n",
      "                                                                                                      Question  \\\n",
      "2410    Warriors of this Yucatan civilization battle in the computer-enhanced mural seen here:                   \n",
      "5077    Edward Bellamy's 1888 book \"Looking Backward\" sends a man to this year & doesn't mention computer bugs   \n",
      "18795   Computer games & programs undergo this test period to work out bugs before their final retail release    \n",
      "20019   It's the \"A\" in the RAM of your computer                                                                 \n",
      "20837   At best, it's a computer enthusiast; at worst, it's one who illegally taps into your computer            \n",
      "...                                                                                               ...            \n",
      "209897  The \"core\" of this computer company goes back to its founding, April 1, 1976                             \n",
      "211882  Derived from the Greek for \"throw\", you can throw a floppy one into a computer & store a file            \n",
      "212789  This humorist's collection of essays \"In Cyberspace\" is formatted like a computer manual                 \n",
      "216527  Like a waiter, a network computer might say \"I'll be your\" this & store files or manage printers         \n",
      "216533  \"Strap\" once completed this word meaning to start a computer by loading software                         \n",
      "\n",
      "                Answer  \n",
      "2410    Mayans          \n",
      "5077    2000            \n",
      "18795   Beta testing    \n",
      "20019   Access          \n",
      "20837   Hacker          \n",
      "...        ...          \n",
      "209897  Apple Computer  \n",
      "211882  a disk          \n",
      "212789  Dave Barry      \n",
      "216527  Server          \n",
      "216533  Boot            \n",
      "\n",
      "[110 rows x 7 columns]\n"
     ]
    }
   ],
   "source": [
    "print (com_rows)"
   ]
  },
  {
   "cell_type": "code",
   "execution_count": null,
   "metadata": {},
   "outputs": [],
   "source": [
    "# total 110 rows has computer in it from 1990 to 2000"
   ]
  }
 ],
 "metadata": {
  "kernelspec": {
   "display_name": "Python 3",
   "language": "python",
   "name": "python3"
  },
  "language_info": {
   "codemirror_mode": {
    "name": "ipython",
    "version": 3
   },
   "file_extension": ".py",
   "mimetype": "text/x-python",
   "name": "python",
   "nbconvert_exporter": "python",
   "pygments_lexer": "ipython3",
   "version": "3.8.5"
  }
 },
 "nbformat": 4,
 "nbformat_minor": 4
}
